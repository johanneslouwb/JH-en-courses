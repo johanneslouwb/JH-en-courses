{
 "cells": [
  {
   "cell_type": "markdown",
   "id": "80b4a512",
   "metadata": {},
   "source": [
    "# 10A: Design Patterns\n",
    "\n",
    "\n",
    "\n",
    "---"
   ]
  },
  {
   "cell_type": "markdown",
   "id": "253ba724",
   "metadata": {},
   "source": [
    "# 10B: Sample Design Patterns\n",
    "\n",
    "\n",
    "\n",
    "\n",
    "---"
   ]
  },
  {
   "cell_type": "markdown",
   "id": "a8af6bde",
   "metadata": {},
   "source": [
    "# 10C: Implementation\n",
    "\n",
    "\n",
    "\n",
    "----"
   ]
  },
  {
   "cell_type": "markdown",
   "id": "b772e9b6",
   "metadata": {},
   "source": [
    "# 10D: Benefits of Reuse\n",
    "\n",
    "\n",
    "\n",
    "\n",
    "---"
   ]
  },
  {
   "cell_type": "markdown",
   "id": "4a87a836",
   "metadata": {},
   "source": [
    "# 10E: Impediments to Reuse\n",
    "\n",
    "\n",
    "\n",
    "---"
   ]
  },
  {
   "cell_type": "markdown",
   "id": "829088f5",
   "metadata": {},
   "source": [
    "# 10F: Maintenance"
   ]
  },
  {
   "cell_type": "code",
   "execution_count": null,
   "id": "de6af27a",
   "metadata": {},
   "outputs": [],
   "source": []
  }
 ],
 "metadata": {
  "kernelspec": {
   "display_name": "Python 3 (ipykernel)",
   "language": "python",
   "name": "python3"
  },
  "language_info": {
   "codemirror_mode": {
    "name": "ipython",
    "version": 3
   },
   "file_extension": ".py",
   "mimetype": "text/x-python",
   "name": "python",
   "nbconvert_exporter": "python",
   "pygments_lexer": "ipython3",
   "version": "3.11.5"
  }
 },
 "nbformat": 4,
 "nbformat_minor": 5
}
