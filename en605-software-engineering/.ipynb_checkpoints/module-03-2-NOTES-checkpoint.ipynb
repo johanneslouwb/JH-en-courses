{
 "cells": [
  {
   "cell_type": "markdown",
   "id": "2b0b54cc",
   "metadata": {},
   "source": [
    "# Module 3.2 Notes:\n",
    "\n",
    "---"
   ]
  },
  {
   "cell_type": "markdown",
   "id": "e46f90aa",
   "metadata": {},
   "source": [
    "## Task Sequencing:\n",
    "\n",
    "<img src=\"ss/mod031/10.png\" width=400>\n",
    "\n",
    "In Activity based estimation, we'll now focus on **task sequencing** (TS). TS must be done before project schedule.\n",
    "\n",
    "In task sequencing, we identify the dependencies between project tasks. Some tasks may be done in parallel (no dependency between tasks) and other tasks need to be done in order (dependencies between tasks).\n",
    "\n",
    "<img src=\"ss/mod032/01.png\" width=400>\n",
    "\n",
    "Here’s an input/output model for the task sequencing process. \n",
    "\n",
    "The primary inputs are a list of the defined tasks, and any assumptions and constraints. Assumptions might be some of the same assumptions that went into the task definition process. An example of constraints might be that certain tasks have mandatory due dates.\n",
    "\n",
    "The tools and techniques involved in the task sequencing process are primarily the identification of task dependencies and the construction of what is called a project network diagram. Task identification and construction of a project network diagram are very mportant because they help form the foundation for estimating a project’s schedule. \n",
    "\n",
    "**Tasks have different dependencies**:\n",
    "\n",
    "Some tasks will have what’s called **mandatory dependencies** (dependencies that are inherent in the nature of the work that needs to be performed). For example, design before coding.\n",
    "\n",
    "Some tasks may have **discretionary dependencies** (defined by the project manager or whoever is responsible for planning the project parts). For example, manager, may decide to break programming task into sub-tasks and have each subtask assigned to separate programmers so that they can be worked on in parallel.\n",
    "\n",
    "Another type of dependency is an **external dependency** (arise due to activities that have to be completed, but are outside of the direct sphere of influence of the project manager). For example, pieces of a project may be contracted out to external suppliers.\n",
    "\n",
    "### Illustrating dependencies\n",
    "\n",
    "Project network diagramming involves building a graphical model of the task dependencies. Many project management tools have features that enable building this diagram, and there are different notational formats that might be used. One type of project network diagram is called a **PERT chart**. A **Gantt chart** is another common tool for illustrating task dependencies…but the dependencies can be harder to see, depending upon how the Gantt chart is constructed and how much detail is included.\n",
    "\n",
    "The outputs to the task sequencing process include the project network diagram and possibly an updated task list. As an example, a previously defined task may have been divided into sub-tasks during the task sequencing process.\n",
    "\n",
    "**SLIDES 3F - SHOWS DETAILS ON GRAPHS AND NODES FOR DEPENDENCIES:**\n",
    "\n",
    "<img src=\"ss/mod032/02.png\" width=400>\n",
    "\n",
    "An **immediate predecessor** is a task that must be done before something else can begin.\n",
    "\n",
    "**Activity on Node Format**:\n",
    "\n",
    "<img src=\"ss/mod032/03.png\" width=400>\n",
    "\n",
    "**Activity on Arrow Format**:\n",
    "\n",
    "<img src=\"ss/mod032/04.png\" width=400>\n",
    "\n",
    "### Example Exercise:\n",
    "\n",
    "<img src=\"ss/mod032/05.png\" width=400>\n",
    "<img src=\"ss/mod032/06.png\" width=400>"
   ]
  },
  {
   "cell_type": "code",
   "execution_count": null,
   "id": "98d1910a",
   "metadata": {},
   "outputs": [],
   "source": []
  }
 ],
 "metadata": {
  "kernelspec": {
   "display_name": "Python 3 (ipykernel)",
   "language": "python",
   "name": "python3"
  },
  "language_info": {
   "codemirror_mode": {
    "name": "ipython",
    "version": 3
   },
   "file_extension": ".py",
   "mimetype": "text/x-python",
   "name": "python",
   "nbconvert_exporter": "python",
   "pygments_lexer": "ipython3",
   "version": "3.11.4"
  }
 },
 "nbformat": 4,
 "nbformat_minor": 5
}
