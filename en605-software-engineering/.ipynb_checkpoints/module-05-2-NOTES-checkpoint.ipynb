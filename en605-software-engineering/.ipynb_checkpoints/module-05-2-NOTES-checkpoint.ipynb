{
 "cells": [
  {
   "cell_type": "markdown",
   "id": "ec627e8a",
   "metadata": {},
   "source": [
    "# 5E - User Interface Mechanisms\n",
    "\n",
    "\n",
    "---"
   ]
  },
  {
   "cell_type": "markdown",
   "id": "1714286a",
   "metadata": {},
   "source": [
    "# 5F - Error Handling\n",
    "\n",
    "\n",
    "---"
   ]
  },
  {
   "cell_type": "markdown",
   "id": "fce0ffa6",
   "metadata": {},
   "source": [
    "# 5G - Prototyping\n",
    "\n",
    "\n",
    "---"
   ]
  },
  {
   "cell_type": "markdown",
   "id": "4df27c98",
   "metadata": {},
   "source": [
    "# 5H - Guidelines, Principles and Heuristics\n",
    "\n",
    "\n",
    "---"
   ]
  },
  {
   "cell_type": "code",
   "execution_count": null,
   "id": "e576ef36",
   "metadata": {},
   "outputs": [],
   "source": []
  }
 ],
 "metadata": {
  "kernelspec": {
   "display_name": "Python 3 (ipykernel)",
   "language": "python",
   "name": "python3"
  },
  "language_info": {
   "codemirror_mode": {
    "name": "ipython",
    "version": 3
   },
   "file_extension": ".py",
   "mimetype": "text/x-python",
   "name": "python",
   "nbconvert_exporter": "python",
   "pygments_lexer": "ipython3",
   "version": "3.11.4"
  }
 },
 "nbformat": 4,
 "nbformat_minor": 5
}
