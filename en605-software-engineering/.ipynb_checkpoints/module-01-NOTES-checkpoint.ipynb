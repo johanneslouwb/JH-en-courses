{
 "cells": [
  {
   "cell_type": "markdown",
   "id": "87f9a3a8",
   "metadata": {},
   "source": [
    "# Module 1: Notes"
   ]
  },
  {
   "cell_type": "markdown",
   "id": "2a125427",
   "metadata": {},
   "source": [
    "## Software Engineering Introduction:\n",
    "\n",
    "The term **software** first appeared in a publication by John Tukey in 1958. The term soft is used in the sense that it can be more easily modified that **hard**ware. \n",
    "\n",
    "### What is software?\n",
    "\n",
    "We ususally think of software as a program and a program is a set of **instructions** stored in a computer's memory that can be executed by the computers hardware to perform some task. We can also include **documentation** in our definition as a program requires documentation for people to use it. We can also include **data** in our definition - a program needs data as input / output. \n",
    "\n",
    "There are 2 main categories of software **(1): application software** - performs a task for an end-user. **(2): system software** - general purpose (like OS, compilers etc) \n",
    "\n",
    "### What is Engineering? \n",
    "\n",
    "<img src=\"ss/mod01/01.png\" width=400>\n",
    "\n",
    "A **craft**: performed by a craftsman to produce real products for real people. These artisans or craftsman may aquire skills through an apprenticeship and there is no scientific background or formal training required. (weaving, painting, cooking, plumbing etc). \n",
    "\n",
    "Purpose of pure **science** is to aquire knowledge - the discovery of facts and truths about the universe. It uses the *application of the scientific method* (running tests to prove / disprove hypothesis) it is based on scientific principles and requires a lot of academic formal training. \n",
    "\n",
    "**Engineering** shares some attributes of both science and craft. Like crafts, the goal of engineering is to produce real products for real people. And like science, it is based on real scientific principles.\n",
    "\n",
    "One important aspect of engineering is that engineers follow well defined repeatable processes\n",
    "\n",
    "<img src=\"ss/mod01/02.png\" width=400>\n",
    "\n",
    "### Software Engineering:\n",
    "\n",
    "So with software engineering:\n",
    "\n",
    "<img src=\"ss/mod01/03.png\" width=400>\n",
    "\n",
    "We can see that it has an underlying science basis (computer science). We apply the principles learned in academic setting from a scientific context to produce something real and tangible - which is the engineering part of software engineering. **Software engineering is NOT the same as programming** - programming is only one *small part* of the SWE process. "
   ]
  },
  {
   "cell_type": "markdown",
   "id": "075c6f17",
   "metadata": {},
   "source": [
    "## The origins: "
   ]
  },
  {
   "cell_type": "code",
   "execution_count": null,
   "id": "3f44e7cf",
   "metadata": {},
   "outputs": [],
   "source": []
  }
 ],
 "metadata": {
  "kernelspec": {
   "display_name": "Python 3 (ipykernel)",
   "language": "python",
   "name": "python3"
  },
  "language_info": {
   "codemirror_mode": {
    "name": "ipython",
    "version": 3
   },
   "file_extension": ".py",
   "mimetype": "text/x-python",
   "name": "python",
   "nbconvert_exporter": "python",
   "pygments_lexer": "ipython3",
   "version": "3.11.4"
  }
 },
 "nbformat": 4,
 "nbformat_minor": 5
}
