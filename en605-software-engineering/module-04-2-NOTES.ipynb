{
 "cells": [
  {
   "cell_type": "markdown",
   "id": "7ac26494",
   "metadata": {},
   "source": [
    "# Importance of Requirements\n",
    "\n",
    "\n",
    "\n",
    "---"
   ]
  },
  {
   "cell_type": "markdown",
   "id": "23d49fd4",
   "metadata": {},
   "source": [
    "---\n",
    "# Activities and Work Products\n",
    "\n",
    "\n",
    "\n",
    "---"
   ]
  },
  {
   "cell_type": "markdown",
   "id": "0ab2d509",
   "metadata": {},
   "source": [
    "---\n",
    "# Use Cases vs. Traditional Requirements\n",
    "\n",
    "\n",
    "---"
   ]
  },
  {
   "cell_type": "code",
   "execution_count": null,
   "id": "65f58b96",
   "metadata": {},
   "outputs": [],
   "source": []
  }
 ],
 "metadata": {
  "kernelspec": {
   "display_name": "Python 3 (ipykernel)",
   "language": "python",
   "name": "python3"
  },
  "language_info": {
   "codemirror_mode": {
    "name": "ipython",
    "version": 3
   },
   "file_extension": ".py",
   "mimetype": "text/x-python",
   "name": "python",
   "nbconvert_exporter": "python",
   "pygments_lexer": "ipython3",
   "version": "3.11.4"
  }
 },
 "nbformat": 4,
 "nbformat_minor": 5
}
