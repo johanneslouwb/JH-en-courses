{
 "cells": [
  {
   "cell_type": "markdown",
   "id": "e6a7fa2a",
   "metadata": {},
   "source": [
    "# 11A: Software Quality\n",
    "\n",
    "\n",
    "\n",
    "---"
   ]
  },
  {
   "cell_type": "markdown",
   "id": "ed877977",
   "metadata": {},
   "source": [
    "# 11B: Software Quality\n",
    "\n",
    "\n",
    "\n",
    "---"
   ]
  },
  {
   "cell_type": "markdown",
   "id": "70cf0e6c",
   "metadata": {},
   "source": [
    "# 11C: Defects\n",
    "\n",
    "\n",
    "\n",
    "----"
   ]
  },
  {
   "cell_type": "markdown",
   "id": "2d6cb3a0",
   "metadata": {},
   "source": [
    "# 11D: The Quality Triangle\n",
    "\n",
    "\n",
    "\n",
    "\n",
    "---"
   ]
  },
  {
   "cell_type": "markdown",
   "id": "beb4b5c6",
   "metadata": {},
   "source": [
    "# 11E: Quality Assurance\n",
    "\n",
    "\n",
    "\n",
    "---"
   ]
  },
  {
   "cell_type": "code",
   "execution_count": null,
   "id": "fcfe7089",
   "metadata": {},
   "outputs": [],
   "source": []
  }
 ],
 "metadata": {
  "kernelspec": {
   "display_name": "Python 3 (ipykernel)",
   "language": "python",
   "name": "python3"
  },
  "language_info": {
   "codemirror_mode": {
    "name": "ipython",
    "version": 3
   },
   "file_extension": ".py",
   "mimetype": "text/x-python",
   "name": "python",
   "nbconvert_exporter": "python",
   "pygments_lexer": "ipython3",
   "version": "3.11.5"
  }
 },
 "nbformat": 4,
 "nbformat_minor": 5
}
