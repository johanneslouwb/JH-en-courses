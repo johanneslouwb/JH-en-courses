{
 "cells": [
  {
   "cell_type": "markdown",
   "id": "83b35949",
   "metadata": {},
   "source": [
    "# 5A - Human Computer Interaction\n",
    "\n",
    "\n",
    "---"
   ]
  },
  {
   "cell_type": "markdown",
   "id": "a723610a",
   "metadata": {},
   "source": [
    "# 5B - Usability Engineering\n",
    "\n",
    "\n",
    "---"
   ]
  },
  {
   "cell_type": "markdown",
   "id": "b832fb43",
   "metadata": {},
   "source": [
    "# 5C - Usability Analysis\n",
    "\n",
    "\n",
    "---"
   ]
  },
  {
   "cell_type": "markdown",
   "id": "23be3892",
   "metadata": {},
   "source": [
    "# 5D - Usability Design\n",
    "\n",
    "\n",
    "---"
   ]
  },
  {
   "cell_type": "markdown",
   "id": "7f354b60",
   "metadata": {},
   "source": []
  }
 ],
 "metadata": {
  "kernelspec": {
   "display_name": "Python 3 (ipykernel)",
   "language": "python",
   "name": "python3"
  },
  "language_info": {
   "codemirror_mode": {
    "name": "ipython",
    "version": 3
   },
   "file_extension": ".py",
   "mimetype": "text/x-python",
   "name": "python",
   "nbconvert_exporter": "python",
   "pygments_lexer": "ipython3",
   "version": "3.11.4"
  }
 },
 "nbformat": 4,
 "nbformat_minor": 5
}
