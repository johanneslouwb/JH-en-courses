{
 "cells": [
  {
   "cell_type": "markdown",
   "id": "63520990",
   "metadata": {},
   "source": [
    "# 12A: Objectives of Software Quality Reviews\n",
    "\n",
    "\n",
    "\n",
    "---"
   ]
  },
  {
   "cell_type": "markdown",
   "id": "5881af27",
   "metadata": {},
   "source": [
    "# 12B: Software Quality Reviews\n",
    "\n",
    "\n",
    "\n",
    "---"
   ]
  },
  {
   "cell_type": "markdown",
   "id": "bef1447e",
   "metadata": {},
   "source": [
    "# 12C: Defect Detection and Repair Costs\n",
    "\n",
    "\n",
    "\n",
    "---"
   ]
  },
  {
   "cell_type": "markdown",
   "id": "de67b7de",
   "metadata": {},
   "source": [
    "# 12D: Informal Walkthrough"
   ]
  },
  {
   "cell_type": "code",
   "execution_count": null,
   "id": "3df155c0",
   "metadata": {},
   "outputs": [],
   "source": []
  }
 ],
 "metadata": {
  "kernelspec": {
   "display_name": "Python 3 (ipykernel)",
   "language": "python",
   "name": "python3"
  },
  "language_info": {
   "codemirror_mode": {
    "name": "ipython",
    "version": 3
   },
   "file_extension": ".py",
   "mimetype": "text/x-python",
   "name": "python",
   "nbconvert_exporter": "python",
   "pygments_lexer": "ipython3",
   "version": "3.11.5"
  }
 },
 "nbformat": 4,
 "nbformat_minor": 5
}
